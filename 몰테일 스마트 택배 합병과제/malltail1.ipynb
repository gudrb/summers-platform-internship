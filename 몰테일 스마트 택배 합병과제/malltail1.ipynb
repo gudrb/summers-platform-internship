{
 "cells": [
  {
   "cell_type": "code",
   "execution_count": 125,
   "metadata": {},
   "outputs": [],
   "source": [
    "#아마존 자동 로그인\n",
    "from bs4 import BeautifulSoup\n",
    "from selenium import webdriver\n",
    "import selenium\n",
    "import re\n",
    "import time\n",
    "\n",
    "driver = webdriver.Chrome('chromedriver.exe 위치')\n",
    "\n",
    "driver.get('https://www.amazon.com/gp/css/order-history')\n",
    "\n",
    "driver.find_element_by_name('email').send_keys('아이디')\n",
    "\n",
    "driver.find_element_by_name('password').send_keys('비밀번호')\n",
    "\n",
    "driver.find_element_by_xpath('//*[@id=\"signInSubmit\"]').click()\n",
    "\n",
    "driver.find_element_by_xpath('//*[@id=\"Order-details_1\"]').click()\n",
    "\n",
    "html = driver.page_source\n",
    "soup = BeautifulSoup(html)\n",
    "\n",
    "orderID = soup.find_all(\"div\",{\"class\": \"a-column a-span9 a-spacing-top-mini\"})\n",
    "price = soup.find_all(\"span\",{\"class\": \"a-size-small a-color-price\"})\n",
    "\n",
    "p = re.compile('.+')\n",
    "\n",
    "orderID_ = re.sub(' ','',str(re.findall(p,orderID[0].text)[3]))\n",
    "\n",
    "price_ = re.sub(' ','',re.sub('</span>\\]','',re.sub('\\[<span class=\\\"a-size-small a-color-price\\\">','',str(price))))\n",
    "price_2 = re.sub('\\$','',price_)\n",
    "\n",
    "ordername4 = soup.find_all(\"a\",{\"class\": \"a-link-normal\"})\n",
    "\n",
    "r = re.compile('title=\\\"(.*)width')\n",
    "results = ordername4[4].text"
   ]
  },
  {
   "cell_type": "code",
   "execution_count": 122,
   "metadata": {},
   "outputs": [
    {
     "name": "stdout",
     "output_type": "stream",
     "text": [
      "orderID:  114-8555969-8189007\n",
      "Name:  \n",
      "        Levoit LV-H132 Air Purifier for Home with True HEPA Filter, Odor Allergies Eliminator for Smokers, Smoke, Dust, Mold, Pets, Air Cleaner with Optional Night Light, US-120V, White, 2-Year Warranty\n",
      "    \n",
      "\n",
      "$76.49\n",
      "\n"
     ]
    }
   ],
   "source": [
    "#상품정보 출력\n",
    "print('orderID: ',orderID_)\n",
    "\n",
    "print('Name: ',results)\n",
    "print(price_)"
   ]
  },
  {
   "cell_type": "code",
   "execution_count": 123,
   "metadata": {},
   "outputs": [
    {
     "name": "stdout",
     "output_type": "stream",
     "text": [
      "배송완료\n"
     ]
    }
   ],
   "source": [
    "#배송상품 여러개 일때 orderID_ 리스트를 생성해 for문을 돌리면서 배송상태 접근가능\n",
    "# driver.get('https://www.amazon.com/gp/your-account/order-details/ref=ppx_yo_dt_b_order_details_o00?ie=UTF8&orderID='+orderID_)\n",
    "try:\n",
    "    driver.find_element_by_xpath('//*[@id=\"a-autoid-1-announce\"]').click()\n",
    "\n",
    "    driver.find_element_by_xpath('//*[@id=\"carrierRelatedInfo-container\"]/div/span/a').click()\n",
    "\n",
    "    tracking5 = driver.find_elements_by_xpath(\"//div[@id='tracking-events-container']\")\n",
    "\n",
    "except: \n",
    "    print(\"배송완료\")"
   ]
  },
  {
   "cell_type": "code",
   "execution_count": 126,
   "metadata": {},
   "outputs": [],
   "source": [
    "#위의 정보들을 몰테일 배송대행 신청서에 자동으로 작성하기\n",
    "driver2 = webdriver.Chrome('C:\\\\Users\\\\enuri_PC_302\\\\chromedriver.exe')\n",
    "\n",
    "driver2.get('https://post.malltail.com')\n",
    "\n",
    "driver2.find_element_by_name('data[Member][user_id]').send_keys('아이디')\n",
    "\n",
    "driver2.find_element_by_name('data[Member][password]').send_keys('비밀번호')\n",
    "\n",
    "driver2.find_element_by_xpath('//*[@id=\"login-submit\"]/img').click()\n",
    "\n",
    "driver2.find_element_by_xpath('//*[@id=\"mypage\"]/div[3]/div[1]/ul/li[4]/a/img').click()\n",
    "\n",
    "driver2.find_element_by_xpath('//*[@id=\"orderForm\"]/div[1]/a[2]').click()\n",
    "\n",
    "driver2.find_element_by_xpath('//*[@id=\"orderForm\"]/dl/dd/label/input').click()\n",
    "\n",
    "driver2.find_element_by_xpath('//*[@id=\"nation_chk_DK\"]').click()\n",
    "\n",
    "driver2.find_element_by_xpath('//*[@id=\"orderStep1\"]/div[2]/a').click()\n",
    "\n",
    "driver2.find_element_by_name('data[orders][shop_order_num]').send_keys(orderID_)\n",
    "\n",
    "driver2.find_element_by_xpath(\"//option[@value=1]\").click()\n",
    "\n",
    "driver2.find_element_by_name('data[orders][goods_info_name1]').send_keys(results[0])\n",
    "\n",
    "driver2.find_element_by_name('data[orders][goods_info_price1]').send_keys(price_2)"
   ]
  }
 ],
 "metadata": {
  "kernelspec": {
   "display_name": "Python 3",
   "language": "python",
   "name": "python3"
  },
  "language_info": {
   "codemirror_mode": {
    "name": "ipython",
    "version": 3
   },
   "file_extension": ".py",
   "mimetype": "text/x-python",
   "name": "python",
   "nbconvert_exporter": "python",
   "pygments_lexer": "ipython3",
   "version": "3.7.3"
  }
 },
 "nbformat": 4,
 "nbformat_minor": 2
}
