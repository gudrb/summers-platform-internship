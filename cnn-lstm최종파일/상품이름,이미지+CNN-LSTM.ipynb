{
 "cells": [
  {
   "cell_type": "code",
   "execution_count": 1,
   "metadata": {},
   "outputs": [
    {
     "name": "stderr",
     "output_type": "stream",
     "text": [
      "Using TensorFlow backend.\n"
     ]
    }
   ],
   "source": [
    "import pymssql\n",
    "import re\n",
    "from collections import OrderedDict\n",
    "from pandas import Series,DataFrame\n",
    "from tqdm import tqdm_notebook\n",
    "conn = pymssql.connect(server='27.122.253.242',database = \"MIDW\", user=\"intern\", password=\"dlsxjs\")\n",
    "import pandas as pd\n",
    "import copy\n",
    "\n",
    "import urllib.request #이미지 다운로드\n",
    "import numpy as np\n",
    "\n",
    "import pickle\n",
    "\n",
    "import tensorflow as tf\n",
    "\n",
    "\n",
    "import keras\n",
    "from keras.preprocessing.text import Tokenizer\n",
    "from keras.preprocessing.sequence import pad_sequences\n",
    "from keras.models import Sequential\n",
    "from keras.layers import Dense, Flatten, LSTM, Conv1D, MaxPooling1D, Dropout, Activation,Convolution2D,Activation,MaxPooling2D,Concatenate\n",
    "from keras.layers.embeddings import Embedding\n",
    "from keras.models import Model\n"
   ]
  },
  {
   "cell_type": "code",
   "execution_count": 2,
   "metadata": {},
   "outputs": [],
   "source": [
    "#피클 파일 불러오기 \n",
    "with open('shoda4000.pickle','rb') as fr: \n",
    "    result3 = pickle.load(fr)"
   ]
  },
  {
   "cell_type": "code",
   "execution_count": 3,
   "metadata": {
    "scrolled": true
   },
   "outputs": [],
   "source": [
    "#다른 크기 이미지 제거하고 인덱스 섞어주기\n",
    "for index in result3.index:\n",
    "    if result3.loc[index]['pl_imgurl'].shape != (28,28,3): \n",
    "        result3.drop(index, inplace = True)\n",
    "result3 = pd.concat([result3],ignore_index=True) \n",
    "result3 = result3.reindex(np.random.permutation(result3.index)) "
   ]
  },
  {
   "cell_type": "code",
   "execution_count": 4,
   "metadata": {
    "scrolled": true
   },
   "outputs": [
    {
     "data": {
      "text/plain": [
       "0    3833\n",
       "2    3549\n",
       "6    3105\n",
       "1    3068\n",
       "4    2989\n",
       "3    2511\n",
       "7    2453\n",
       "5    2395\n",
       "Name: LABEL, dtype: int64"
      ]
     },
     "execution_count": 4,
     "metadata": {},
     "output_type": "execute_result"
    }
   ],
   "source": [
    "#정보비율 확인\n",
    "result3.LABEL.value_counts() "
   ]
  },
  {
   "cell_type": "code",
   "execution_count": 5,
   "metadata": {},
   "outputs": [
    {
     "name": "stdout",
     "output_type": "stream",
     "text": [
      "[[0. 1. 0. 0. 0. 0. 0. 0.]\n",
      " [0. 0. 0. 0. 0. 1. 0. 0.]\n",
      " [0. 0. 0. 1. 0. 0. 0. 0.]\n",
      " [0. 0. 0. 0. 1. 0. 0. 0.]\n",
      " [0. 0. 0. 0. 0. 0. 1. 0.]\n",
      " [1. 0. 0. 0. 0. 0. 0. 0.]\n",
      " [0. 0. 1. 0. 0. 0. 0. 0.]\n",
      " [0. 0. 0. 0. 0. 0. 0. 1.]\n",
      " [0. 1. 0. 0. 0. 0. 0. 0.]\n",
      " [0. 0. 0. 1. 0. 0. 0. 0.]]\n"
     ]
    }
   ],
   "source": [
    "#원핫벡터 정답 label 만들기\n",
    "from keras.utils.np_utils import to_categorical\n",
    "labels = to_categorical(result3['LABEL'], num_classes =8) \n",
    "print(labels[:10])"
   ]
  },
  {
   "cell_type": "code",
   "execution_count": 6,
   "metadata": {},
   "outputs": [],
   "source": [
    "vocabulary_size = 10000\n",
    "tokenizer = Tokenizer(num_words= vocabulary_size)\n",
    "tokenizer.fit_on_texts(result3['pl_goodsnm'])\n",
    "\n",
    "sequences= tokenizer.texts_to_sequences(result3['pl_goodsnm'])\n",
    "data = pad_sequences(sequences, maxlen=10)\n",
    "\n",
    "from sklearn.model_selection import train_test_split\n",
    "data_train,data_test,labels_train,labels_test = train_test_split(data,labels, test_size = 0.25, random_state=42)#train pl_goodsnm만 임베딩 시켜보자\n",
    "data_train_image,data_test_image,labels_train_image,labels_test_image = train_test_split(np.array(result3['pl_imgurl'].tolist()),labels, test_size = 0.25, random_state=42)"
   ]
  },
  {
   "cell_type": "code",
   "execution_count": 7,
   "metadata": {},
   "outputs": [],
   "source": [
    "#임벨런스드 데이터 오버 샘플링 - 시간 오래걸림,성능개선 x\n",
    "# from imblearn.over_sampling import SMOTE \n",
    "# sm = SMOTE(random_state=12)\n",
    "# data_train_sm, labels_train_sm = sm.fit_sample(data_train,labels_train)"
   ]
  },
  {
   "cell_type": "code",
   "execution_count": 8,
   "metadata": {
    "scrolled": true
   },
   "outputs": [
    {
     "name": "stdout",
     "output_type": "stream",
     "text": [
      "WARNING:tensorflow:From C:\\ProgramData\\Anaconda3\\lib\\site-packages\\tensorflow\\python\\framework\\op_def_library.py:263: colocate_with (from tensorflow.python.framework.ops) is deprecated and will be removed in a future version.\n",
      "Instructions for updating:\n",
      "Colocations handled automatically by placer.\n"
     ]
    }
   ],
   "source": [
    "#lstm\n",
    "from keras.callbacks import EarlyStopping\n",
    "early_stopping = EarlyStopping()\n",
    "keras.callbacks.EarlyStopping(monitor='val_loss', min_delta=0, patience=0, verbose=0, mode='auto')\n",
    "\n",
    "lstm_model = Sequential()\n",
    "lstm_model.add(Embedding(10000, 200, input_length=10))\n",
    "lstm_model.add(LSTM(10, activation = 'relu'))\n",
    "# model.add(LSTM(10, dropout=0.2, recurrent_dropout=0.2))\n",
    "# model.add(Dense(9,activation='softmax'))\n",
    "# lstm_model.compile(loss='categorical_crossentropy', optimizer='adam', metrics=['accuracy']) #multi classification에는 categorical_crossentropy 써야함\n",
    "# lstm_model.fit(data_train,labels_train, epochs=3,batch_size = 2000, validation_split = 0.2,callbacks=[early_stopping])"
   ]
  },
  {
   "cell_type": "code",
   "execution_count": 9,
   "metadata": {},
   "outputs": [
    {
     "name": "stderr",
     "output_type": "stream",
     "text": [
      "C:\\ProgramData\\Anaconda3\\lib\\site-packages\\ipykernel_launcher.py:4: UserWarning: Update your `Conv2D` call to the Keras 2 API: `Conv2D(16, (3, 3), activation=\"relu\", input_shape=(28, 28, 3..., padding=\"same\")`\n",
      "  after removing the cwd from sys.path.\n"
     ]
    },
    {
     "name": "stdout",
     "output_type": "stream",
     "text": [
      "WARNING:tensorflow:From C:\\ProgramData\\Anaconda3\\lib\\site-packages\\keras\\backend\\tensorflow_backend.py:3445: calling dropout (from tensorflow.python.ops.nn_ops) with keep_prob is deprecated and will be removed in a future version.\n",
      "Instructions for updating:\n",
      "Please use `rate` instead of `keep_prob`. Rate should be set to `rate = 1 - keep_prob`.\n"
     ]
    },
    {
     "name": "stderr",
     "output_type": "stream",
     "text": [
      "C:\\ProgramData\\Anaconda3\\lib\\site-packages\\ipykernel_launcher.py:8: UserWarning: Update your `Conv2D` call to the Keras 2 API: `Conv2D(64, (3, 3), activation=\"relu\")`\n",
      "  \n",
      "C:\\ProgramData\\Anaconda3\\lib\\site-packages\\ipykernel_launcher.py:12: UserWarning: Update your `Conv2D` call to the Keras 2 API: `Conv2D(64, (3, 3))`\n",
      "  if sys.path[0] == '':\n"
     ]
    }
   ],
   "source": [
    "#cnn\n",
    "cnn_model = Sequential()\n",
    "cnn_model.add(Convolution2D(16, 3, 3, border_mode='same', activation='relu',\n",
    "                        input_shape=data_train_image.shape[1:]))\n",
    "cnn_model.add(MaxPooling2D(pool_size=(2, 2)))\n",
    "cnn_model.add(Dropout(0.25))\n",
    "  \n",
    "cnn_model.add(Convolution2D(64, 3, 3,  activation='relu'))\n",
    "cnn_model.add(MaxPooling2D(pool_size=(2, 2)))\n",
    "cnn_model.add(Dropout(0.25))\n",
    " \n",
    "cnn_model.add(Convolution2D(64, 3, 3))\n",
    "cnn_model.add(MaxPooling2D(pool_size=(2, 2)))\n",
    "cnn_model.add(Dropout(0.25))\n",
    "  \n",
    "cnn_model.add(Flatten())"
   ]
  },
  {
   "cell_type": "code",
   "execution_count": 10,
   "metadata": {},
   "outputs": [
    {
     "name": "stdout",
     "output_type": "stream",
     "text": [
      "WARNING:tensorflow:From C:\\ProgramData\\Anaconda3\\lib\\site-packages\\tensorflow\\python\\ops\\math_ops.py:3066: to_int32 (from tensorflow.python.ops.math_ops) is deprecated and will be removed in a future version.\n",
      "Instructions for updating:\n",
      "Use tf.cast instead.\n",
      "Train on 14341 samples, validate on 3586 samples\n",
      "Epoch 1/30\n",
      "14341/14341 [==============================] - ETA: 1:27 - loss: 2.1135 - acc: 0.120 - ETA: 47s - loss: 2.0974 - acc: 0.144 - ETA: 33s - loss: 2.1023 - acc: 0.14 - ETA: 26s - loss: 2.1017 - acc: 0.15 - ETA: 22s - loss: 2.1020 - acc: 0.14 - ETA: 19s - loss: 2.0963 - acc: 0.14 - ETA: 16s - loss: 2.0911 - acc: 0.15 - ETA: 14s - loss: 2.0874 - acc: 0.15 - ETA: 13s - loss: 2.0853 - acc: 0.14 - ETA: 11s - loss: 2.0839 - acc: 0.15 - ETA: 10s - loss: 2.0807 - acc: 0.15 - ETA: 9s - loss: 2.0791 - acc: 0.1540 - ETA: 8s - loss: 2.0773 - acc: 0.156 - ETA: 8s - loss: 2.0755 - acc: 0.157 - ETA: 7s - loss: 2.0749 - acc: 0.156 - ETA: 6s - loss: 2.0737 - acc: 0.156 - ETA: 6s - loss: 2.0725 - acc: 0.156 - ETA: 5s - loss: 2.0706 - acc: 0.158 - ETA: 4s - loss: 2.0691 - acc: 0.159 - ETA: 4s - loss: 2.0674 - acc: 0.160 - ETA: 3s - loss: 2.0654 - acc: 0.162 - ETA: 3s - loss: 2.0641 - acc: 0.163 - ETA: 2s - loss: 2.0628 - acc: 0.163 - ETA: 2s - loss: 2.0607 - acc: 0.165 - ETA: 1s - loss: 2.0596 - acc: 0.167 - ETA: 1s - loss: 2.0574 - acc: 0.170 - ETA: 0s - loss: 2.0553 - acc: 0.172 - ETA: 0s - loss: 2.0528 - acc: 0.174 - 14s 997us/step - loss: 2.0520 - acc: 0.1751 - val_loss: 1.9895 - val_acc: 0.2557\n",
      "Epoch 2/30\n",
      "14341/14341 [==============================] - ETA: 11s - loss: 1.9881 - acc: 0.23 - ETA: 10s - loss: 1.9791 - acc: 0.25 - ETA: 9s - loss: 1.9676 - acc: 0.2760 - ETA: 9s - loss: 1.9700 - acc: 0.269 - ETA: 8s - loss: 1.9611 - acc: 0.282 - ETA: 8s - loss: 1.9584 - acc: 0.283 - ETA: 8s - loss: 1.9542 - acc: 0.286 - ETA: 7s - loss: 1.9488 - acc: 0.287 - ETA: 7s - loss: 1.9431 - acc: 0.288 - ETA: 6s - loss: 1.9359 - acc: 0.291 - ETA: 6s - loss: 1.9314 - acc: 0.294 - ETA: 6s - loss: 1.9265 - acc: 0.293 - ETA: 5s - loss: 1.9220 - acc: 0.294 - ETA: 5s - loss: 1.9141 - acc: 0.297 - ETA: 4s - loss: 1.9080 - acc: 0.300 - ETA: 4s - loss: 1.9039 - acc: 0.301 - ETA: 4s - loss: 1.8981 - acc: 0.304 - ETA: 3s - loss: 1.8916 - acc: 0.305 - ETA: 3s - loss: 1.8837 - acc: 0.310 - ETA: 3s - loss: 1.8743 - acc: 0.316 - ETA: 2s - loss: 1.8686 - acc: 0.317 - ETA: 2s - loss: 1.8609 - acc: 0.322 - ETA: 2s - loss: 1.8508 - acc: 0.327 - ETA: 1s - loss: 1.8403 - acc: 0.332 - ETA: 1s - loss: 1.8286 - acc: 0.338 - ETA: 0s - loss: 1.8183 - acc: 0.343 - ETA: 0s - loss: 1.8050 - acc: 0.349 - ETA: 0s - loss: 1.7916 - acc: 0.355 - 11s 800us/step - loss: 1.7806 - acc: 0.3604 - val_loss: 1.2883 - val_acc: 0.5867\n",
      "Epoch 3/30\n",
      "14341/14341 [==============================] - ETA: 10s - loss: 1.3305 - acc: 0.56 - ETA: 12s - loss: 1.2828 - acc: 0.57 - ETA: 12s - loss: 1.2623 - acc: 0.58 - ETA: 12s - loss: 1.2275 - acc: 0.60 - ETA: 12s - loss: 1.2031 - acc: 0.61 - ETA: 12s - loss: 1.1765 - acc: 0.62 - ETA: 11s - loss: 1.1489 - acc: 0.63 - ETA: 11s - loss: 1.1321 - acc: 0.64 - ETA: 10s - loss: 1.1184 - acc: 0.64 - ETA: 10s - loss: 1.1036 - acc: 0.64 - ETA: 9s - loss: 1.0922 - acc: 0.6507 - ETA: 9s - loss: 1.0798 - acc: 0.653 - ETA: 8s - loss: 1.0684 - acc: 0.658 - ETA: 8s - loss: 1.0546 - acc: 0.663 - ETA: 7s - loss: 1.0402 - acc: 0.668 - ETA: 7s - loss: 1.0252 - acc: 0.674 - ETA: 6s - loss: 1.0116 - acc: 0.678 - ETA: 6s - loss: 1.0014 - acc: 0.683 - ETA: 5s - loss: 0.9855 - acc: 0.689 - ETA: 4s - loss: 0.9749 - acc: 0.695 - ETA: 4s - loss: 0.9604 - acc: 0.700 - ETA: 3s - loss: 0.9483 - acc: 0.704 - ETA: 3s - loss: 0.9399 - acc: 0.708 - ETA: 2s - loss: 0.9269 - acc: 0.711 - ETA: 2s - loss: 0.9163 - acc: 0.715 - ETA: 1s - loss: 0.9052 - acc: 0.720 - ETA: 0s - loss: 0.8983 - acc: 0.722 - ETA: 0s - loss: 0.8899 - acc: 0.726 - 17s 1ms/step - loss: 0.8856 - acc: 0.7285 - val_loss: 0.6763 - val_acc: 0.7853\n",
      "Epoch 4/30\n",
      "14341/14341 [==============================] - ETA: 15s - loss: 0.6049 - acc: 0.83 - ETA: 14s - loss: 0.5668 - acc: 0.82 - ETA: 14s - loss: 0.5352 - acc: 0.84 - ETA: 13s - loss: 0.5298 - acc: 0.84 - ETA: 12s - loss: 0.5301 - acc: 0.84 - ETA: 11s - loss: 0.5314 - acc: 0.84 - ETA: 11s - loss: 0.5348 - acc: 0.84 - ETA: 11s - loss: 0.5299 - acc: 0.84 - ETA: 10s - loss: 0.5302 - acc: 0.84 - ETA: 9s - loss: 0.5253 - acc: 0.8442 - ETA: 9s - loss: 0.5284 - acc: 0.844 - ETA: 9s - loss: 0.5222 - acc: 0.847 - ETA: 8s - loss: 0.5198 - acc: 0.848 - ETA: 7s - loss: 0.5171 - acc: 0.849 - ETA: 7s - loss: 0.5182 - acc: 0.849 - ETA: 6s - loss: 0.5181 - acc: 0.849 - ETA: 6s - loss: 0.5144 - acc: 0.851 - ETA: 5s - loss: 0.5067 - acc: 0.854 - ETA: 5s - loss: 0.5062 - acc: 0.854 - ETA: 4s - loss: 0.5059 - acc: 0.854 - ETA: 4s - loss: 0.5059 - acc: 0.854 - ETA: 3s - loss: 0.5058 - acc: 0.855 - ETA: 3s - loss: 0.5062 - acc: 0.855 - ETA: 2s - loss: 0.5031 - acc: 0.855 - ETA: 1s - loss: 0.4991 - acc: 0.857 - ETA: 1s - loss: 0.4949 - acc: 0.858 - ETA: 0s - loss: 0.4954 - acc: 0.859 - ETA: 0s - loss: 0.4926 - acc: 0.859 - 17s 1ms/step - loss: 0.4926 - acc: 0.8594 - val_loss: 0.5474 - val_acc: 0.8391\n",
      "Epoch 5/30\n",
      "14341/14341 [==============================] - ETA: 16s - loss: 0.3564 - acc: 0.90 - ETA: 15s - loss: 0.3750 - acc: 0.90 - ETA: 14s - loss: 0.3729 - acc: 0.89 - ETA: 14s - loss: 0.3624 - acc: 0.89 - ETA: 13s - loss: 0.3638 - acc: 0.90 - ETA: 12s - loss: 0.3708 - acc: 0.90 - ETA: 12s - loss: 0.3687 - acc: 0.90 - ETA: 11s - loss: 0.3706 - acc: 0.90 - ETA: 11s - loss: 0.3752 - acc: 0.89 - ETA: 10s - loss: 0.3748 - acc: 0.89 - ETA: 10s - loss: 0.3707 - acc: 0.89 - ETA: 9s - loss: 0.3690 - acc: 0.8993 - ETA: 8s - loss: 0.3705 - acc: 0.897 - ETA: 8s - loss: 0.3638 - acc: 0.900 - ETA: 7s - loss: 0.3653 - acc: 0.900 - ETA: 7s - loss: 0.3677 - acc: 0.899 - ETA: 6s - loss: 0.3691 - acc: 0.899 - ETA: 6s - loss: 0.3693 - acc: 0.899 - ETA: 5s - loss: 0.3672 - acc: 0.900 - ETA: 4s - loss: 0.3654 - acc: 0.901 - ETA: 4s - loss: 0.3648 - acc: 0.901 - ETA: 3s - loss: 0.3636 - acc: 0.900 - ETA: 3s - loss: 0.3604 - acc: 0.901 - ETA: 2s - loss: 0.3597 - acc: 0.901 - ETA: 2s - loss: 0.3599 - acc: 0.901 - ETA: 1s - loss: 0.3585 - acc: 0.902 - ETA: 0s - loss: 0.3598 - acc: 0.902 - ETA: 0s - loss: 0.3587 - acc: 0.902 - 17s 1ms/step - loss: 0.3568 - acc: 0.9029 - val_loss: 0.4950 - val_acc: 0.8583\n",
      "Epoch 6/30\n",
      "14341/14341 [==============================] - ETA: 15s - loss: 0.2580 - acc: 0.93 - ETA: 14s - loss: 0.2620 - acc: 0.92 - ETA: 14s - loss: 0.2818 - acc: 0.92 - ETA: 13s - loss: 0.2960 - acc: 0.92 - ETA: 13s - loss: 0.2965 - acc: 0.92 - ETA: 12s - loss: 0.2851 - acc: 0.92 - ETA: 12s - loss: 0.2790 - acc: 0.92 - ETA: 11s - loss: 0.2847 - acc: 0.92 - ETA: 11s - loss: 0.2819 - acc: 0.92 - ETA: 10s - loss: 0.2820 - acc: 0.92 - ETA: 9s - loss: 0.2836 - acc: 0.9262 - ETA: 9s - loss: 0.2825 - acc: 0.925 - ETA: 8s - loss: 0.2816 - acc: 0.926 - ETA: 8s - loss: 0.2842 - acc: 0.924 - ETA: 7s - loss: 0.2797 - acc: 0.925 - ETA: 7s - loss: 0.2794 - acc: 0.925 - ETA: 6s - loss: 0.2802 - acc: 0.924 - ETA: 5s - loss: 0.2795 - acc: 0.924 - ETA: 5s - loss: 0.2791 - acc: 0.924 - ETA: 4s - loss: 0.2798 - acc: 0.923 - ETA: 4s - loss: 0.2786 - acc: 0.924 - ETA: 3s - loss: 0.2792 - acc: 0.924 - ETA: 3s - loss: 0.2804 - acc: 0.923 - ETA: 2s - loss: 0.2786 - acc: 0.924 - ETA: 2s - loss: 0.2785 - acc: 0.924 - ETA: 1s - loss: 0.2800 - acc: 0.924 - ETA: 0s - loss: 0.2789 - acc: 0.924 - ETA: 0s - loss: 0.2798 - acc: 0.923 - 18s 1ms/step - loss: 0.2798 - acc: 0.9236 - val_loss: 0.4799 - val_acc: 0.8650\n",
      "Epoch 7/30\n"
     ]
    },
    {
     "name": "stdout",
     "output_type": "stream",
     "text": [
      "14341/14341 [==============================] - ETA: 17s - loss: 0.2211 - acc: 0.95 - ETA: 15s - loss: 0.1945 - acc: 0.95 - ETA: 15s - loss: 0.2108 - acc: 0.94 - ETA: 14s - loss: 0.2206 - acc: 0.94 - ETA: 14s - loss: 0.2130 - acc: 0.94 - ETA: 13s - loss: 0.2205 - acc: 0.93 - ETA: 12s - loss: 0.2191 - acc: 0.93 - ETA: 12s - loss: 0.2156 - acc: 0.94 - ETA: 11s - loss: 0.2201 - acc: 0.93 - ETA: 11s - loss: 0.2192 - acc: 0.93 - ETA: 10s - loss: 0.2168 - acc: 0.94 - ETA: 10s - loss: 0.2160 - acc: 0.94 - ETA: 9s - loss: 0.2163 - acc: 0.9405 - ETA: 8s - loss: 0.2176 - acc: 0.940 - ETA: 8s - loss: 0.2141 - acc: 0.941 - ETA: 7s - loss: 0.2167 - acc: 0.939 - ETA: 6s - loss: 0.2200 - acc: 0.939 - ETA: 6s - loss: 0.2253 - acc: 0.938 - ETA: 5s - loss: 0.2260 - acc: 0.938 - ETA: 5s - loss: 0.2246 - acc: 0.939 - ETA: 4s - loss: 0.2228 - acc: 0.939 - ETA: 4s - loss: 0.2252 - acc: 0.940 - ETA: 3s - loss: 0.2256 - acc: 0.940 - ETA: 2s - loss: 0.2251 - acc: 0.940 - ETA: 2s - loss: 0.2247 - acc: 0.940 - ETA: 1s - loss: 0.2263 - acc: 0.939 - ETA: 1s - loss: 0.2256 - acc: 0.939 - ETA: 0s - loss: 0.2272 - acc: 0.939 - 19s 1ms/step - loss: 0.2267 - acc: 0.9396 - val_loss: 0.4977 - val_acc: 0.8636\n"
     ]
    }
   ],
   "source": [
    "out = Concatenate(axis=1)([lstm_model.output,cnn_model.output])\n",
    "out = Dense(8,activation='softmax')(out)\n",
    "conc_model = Model([lstm_model.input,cnn_model.input],out)\n",
    "conc_model.compile(loss='categorical_crossentropy', optimizer='adam', metrics=['accuracy']) #multi classification에는 categorical_crossentropy 써야함\n",
    "hist = conc_model.fit([data_train,data_train_image],labels_train, epochs=30,batch_size = 500,validation_split = 0.2,callbacks=[early_stopping])"
   ]
  },
  {
   "cell_type": "code",
   "execution_count": 11,
   "metadata": {
    "scrolled": true
   },
   "outputs": [
    {
     "name": "stdout",
     "output_type": "stream",
     "text": [
      "5976/5976 [==============================] - ETA:  - ETA:  - ETA:  - ETA:  - ETA:  - ETA:  - ETA:  - ETA:  - ETA:  - ETA:  - ETA:  - ETA:  - ETA:  - ETA:  - ETA:  - ETA:  - ETA:  - ETA:  - ETA:  - ETA:  - ETA:  - ETA:  - ETA:  - ETA:  - ETA:  - ETA:  - ETA:  - ETA:  - ETA:  - ETA:  - ETA:  - ETA:  - ETA:  - ETA:  - ETA:  - ETA:  - ETA:  - ETA:  - ETA:  - ETA:  - ETA:  - ETA:  - ETA:  - ETA:  - ETA:  - ETA:  - ETA:  - ETA:  - ETA:  - ETA:  - ETA:  - ETA:  - ETA:  - ETA:  - ETA:  - ETA:  - ETA:  - ETA:  - ETA:  - ETA:  - ETA:  - ETA:  - ETA:  - ETA:  - ETA:  - ETA:  - ETA:  - ETA:  - ETA:  - ETA:  - ETA:  - ETA:  - 5s 775us/step\n"
     ]
    }
   ],
   "source": [
    "accr = conc_model.evaluate([data_test,data_test_image],labels_test)"
   ]
  },
  {
   "cell_type": "code",
   "execution_count": 12,
   "metadata": {
    "scrolled": false
   },
   "outputs": [
    {
     "name": "stdout",
     "output_type": "stream",
     "text": [
      "Test set\n",
      "  Loss: 0.557\n",
      "  Accuracy: 0.854\n"
     ]
    }
   ],
   "source": [
    "print('Test set\\n  Loss: {:0.3f}\\n  Accuracy: {:0.3f}'.format(accr[0],accr[1]))"
   ]
  },
  {
   "cell_type": "code",
   "execution_count": 13,
   "metadata": {},
   "outputs": [
    {
     "data": {
      "image/png": "[encoded data removed]",
      "text/plain": [
       "<Figure size 432x288 with 2 Axes>"
      ]
     },
     "metadata": {
      "needs_background": "light"
     },
     "output_type": "display_data"
    }
   ],
   "source": [
    "%matplotlib inline\n",
    "import matplotlib.pyplot as plt\n",
    "\n",
    "fig, loss_ax = plt.subplots()\n",
    "\n",
    "acc_ax = loss_ax.twinx()\n",
    "\n",
    "loss_ax.plot(hist.history['loss'], 'y', label='train loss')\n",
    "loss_ax.plot(hist.history['val_loss'], 'r', label='val loss')\n",
    "\n",
    "acc_ax.plot(hist.history['acc'], 'b', label='train acc')\n",
    "acc_ax.plot(hist.history['val_acc'], 'g', label='val acc')\n",
    "\n",
    "loss_ax.set_xlabel('epoch')\n",
    "loss_ax.set_ylabel('loss')\n",
    "acc_ax.set_ylabel('accuray')\n",
    "\n",
    "loss_ax.legend(loc='upper left')\n",
    "acc_ax.legend(loc='lower left')\n",
    "\n",
    "plt.show()"
   ]
  }
 ],
 "metadata": {
  "kernelspec": {
   "display_name": "Python 3",
   "language": "python",
   "name": "python3"
  },
  "language_info": {
   "codemirror_mode": {
    "name": "ipython",
    "version": 3
   },
   "file_extension": ".py",
   "mimetype": "text/x-python",
   "name": "python",
   "nbconvert_exporter": "python",
   "pygments_lexer": "ipython3",
   "version": "3.7.3"
  }
 },
 "nbformat": 4,
 "nbformat_minor": 2
}
