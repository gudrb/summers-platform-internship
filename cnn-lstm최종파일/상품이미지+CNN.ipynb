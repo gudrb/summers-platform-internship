{
 "cells": [
  {
   "cell_type": "code",
   "execution_count": 1,
   "metadata": {},
   "outputs": [
    {
     "name": "stderr",
     "output_type": "stream",
     "text": [
      "Using TensorFlow backend.\n"
     ]
    }
   ],
   "source": [
    "import pymssql\n",
    "import re\n",
    "from collections import OrderedDict\n",
    "from pandas import Series,DataFrame\n",
    "from tqdm import tqdm_notebook\n",
    "import pandas as pd\n",
    "import copy\n",
    "\n",
    "import numpy as np\n",
    "\n",
    "import pickle\n",
    "\n",
    "import tensorflow as tf\n",
    "\n",
    "import keras\n",
    "from keras.preprocessing.text import Tokenizer\n",
    "from keras.preprocessing.sequence import pad_sequences\n",
    "from keras.models import Sequential\n",
    "from keras.layers import Dense, Flatten, LSTM, Conv1D, MaxPooling1D, Dropout, Activation,Convolution2D,Activation,MaxPooling2D,Concatenate\n",
    "from keras.layers.embeddings import Embedding\n",
    "from keras.models import Model\n",
    "from keras.models import load_model\n",
    "from sklearn.model_selection import train_test_split\n",
    "\n",
    "import os"
   ]
  },
  {
   "cell_type": "code",
   "execution_count": 2,
   "metadata": {
    "collapsed": true
   },
   "outputs": [],
   "source": [
    "with open('shoda4000.pickle','rb') as fr: #피클 파일 불러와서 합치기\n",
    "    result3 = pickle.load(fr)"
   ]
  },
  {
   "cell_type": "code",
   "execution_count": 4,
   "metadata": {
    "scrolled": true
   },
   "outputs": [
    {
     "data": {
      "text/plain": [
       "1    3681\n",
       "2    3670\n",
       "3    3377\n",
       "6    3364\n",
       "4    2784\n",
       "5    2685\n",
       "0    2313\n",
       "Name: LABEL, dtype: int64"
      ]
     },
     "execution_count": 4,
     "metadata": {},
     "output_type": "execute_result"
    }
   ],
   "source": [
    "result3.LABEL.value_counts()"
   ]
  },
  {
   "cell_type": "code",
   "execution_count": 5,
   "metadata": {
    "collapsed": true
   },
   "outputs": [],
   "source": [
    "#다른 크기 이미지 제거후 인덱스 섞어주기\n",
    "for index in result3.index:\n",
    "    if result3.loc[index]['pl_imgurl'].shape != (28,28,3): \n",
    "        result3.drop(index, inplace = True)\n",
    "result3 = pd.concat([result3],ignore_index=True) \n",
    "result3 = result3.reindex(np.random.permutation(result3.index)) "
   ]
  },
  {
   "cell_type": "code",
   "execution_count": 6,
   "metadata": {
    "scrolled": true
   },
   "outputs": [
    {
     "name": "stdout",
     "output_type": "stream",
     "text": [
      "[[ 0.  0.  0.  0.  0.  1.  0.  0.]\n",
      " [ 0.  0.  0.  0.  1.  0.  0.  0.]\n",
      " [ 0.  0.  0.  0.  0.  1.  0.  0.]\n",
      " [ 0.  0.  1.  0.  0.  0.  0.  0.]\n",
      " [ 0.  1.  0.  0.  0.  0.  0.  0.]\n",
      " [ 0.  0.  1.  0.  0.  0.  0.  0.]\n",
      " [ 0.  0.  0.  0.  0.  1.  0.  0.]\n",
      " [ 0.  0.  1.  0.  0.  0.  0.  0.]\n",
      " [ 0.  1.  0.  0.  0.  0.  0.  0.]\n",
      " [ 0.  0.  0.  1.  0.  0.  0.  0.]]\n"
     ]
    }
   ],
   "source": [
    "#원핫벡터 정답 label 만들기\n",
    "from keras.utils.np_utils import to_categorical\n",
    "labels = to_categorical(result3['LABEL'], num_classes =8) \n",
    "print(labels[:10])"
   ]
  },
  {
   "cell_type": "code",
   "execution_count": 7,
   "metadata": {
    "collapsed": true
   },
   "outputs": [],
   "source": [
    "#트레이닝 테스트 셋 분할\n",
    "data_train_image,data_test_image,labels_train_image,labels_test_image = train_test_split(np.array(result3['pl_imgurl'].tolist()),labels, test_size = 0.25, random_state=42)"
   ]
  },
  {
   "cell_type": "code",
   "execution_count": 8,
   "metadata": {
    "scrolled": true
   },
   "outputs": [
    {
     "name": "stderr",
     "output_type": "stream",
     "text": [
      "/home/ml/anaconda3/lib/python3.6/site-packages/ipykernel_launcher.py:8: UserWarning: Update your `Conv2D` call to the Keras 2 API: `Conv2D(16, (3, 3), activation=\"relu\", input_shape=(28, 28, 3..., padding=\"same\")`\n",
      "  \n",
      "/home/ml/anaconda3/lib/python3.6/site-packages/ipykernel_launcher.py:13: UserWarning: Update your `Conv2D` call to the Keras 2 API: `Conv2D(64, (3, 3), activation=\"relu\")`\n",
      "  del sys.path[0]\n",
      "/home/ml/anaconda3/lib/python3.6/site-packages/ipykernel_launcher.py:17: UserWarning: Update your `Conv2D` call to the Keras 2 API: `Conv2D(64, (3, 3))`\n",
      "/home/ml/anaconda3/lib/python3.6/site-packages/ipykernel_launcher.py:27: UserWarning: The `nb_epoch` argument in `fit` has been renamed `epochs`.\n"
     ]
    },
    {
     "name": "stdout",
     "output_type": "stream",
     "text": [
      "Train on 13078 samples, validate on 3270 samples\n",
      "Epoch 1/100\n"
     ]
    },
    {
     "ename": "UnknownError",
     "evalue": "Failed to get convolution algorithm. This is probably because cuDNN failed to initialize, so try looking to see if a warning log message was printed above.\n\t [[{{node conv2d_1/convolution}} = Conv2D[T=DT_FLOAT, _class=[\"loc:@training/Adam/gradients/conv2d_1/convolution_grad/Conv2DBackpropFilter\"], data_format=\"NCHW\", dilations=[1, 1, 1, 1], padding=\"SAME\", strides=[1, 1, 1, 1], use_cudnn_on_gpu=true, _device=\"/job:localhost/replica:0/task:0/device:GPU:0\"](training/Adam/gradients/conv2d_1/convolution_grad/Conv2DBackpropFilter-0-TransposeNHWCToNCHW-LayoutOptimizer, conv2d_1/kernel/read)]]\n\t [[{{node loss/mul/_129}} = _Recv[client_terminated=false, recv_device=\"/job:localhost/replica:0/task:0/device:CPU:0\", send_device=\"/job:localhost/replica:0/task:0/device:GPU:0\", send_device_incarnation=1, tensor_name=\"edge_1020_loss/mul\", tensor_type=DT_FLOAT, _device=\"/job:localhost/replica:0/task:0/device:CPU:0\"]()]]",
     "output_type": "error",
     "traceback": [
      "\u001b[0;31m---------------------------------------------------------------------------\u001b[0m",
      "\u001b[0;31mUnknownError\u001b[0m                              Traceback (most recent call last)",
      "\u001b[0;32m<ipython-input-8-09f5c6f1ac2b>\u001b[0m in \u001b[0;36m<module>\u001b[0;34m()\u001b[0m\n\u001b[1;32m     25\u001b[0m \u001b[0;34m\u001b[0m\u001b[0m\n\u001b[1;32m     26\u001b[0m \u001b[0mmodel\u001b[0m\u001b[0;34m.\u001b[0m\u001b[0mcompile\u001b[0m\u001b[0;34m(\u001b[0m\u001b[0mloss\u001b[0m\u001b[0;34m=\u001b[0m\u001b[0;34m'categorical_crossentropy'\u001b[0m\u001b[0;34m,\u001b[0m\u001b[0moptimizer\u001b[0m\u001b[0;34m=\u001b[0m\u001b[0;34m'Adam'\u001b[0m\u001b[0;34m,\u001b[0m\u001b[0mmetrics\u001b[0m\u001b[0;34m=\u001b[0m\u001b[0;34m[\u001b[0m\u001b[0;34m'accuracy'\u001b[0m\u001b[0;34m]\u001b[0m\u001b[0;34m)\u001b[0m\u001b[0;34m\u001b[0m\u001b[0m\n\u001b[0;32m---> 27\u001b[0;31m \u001b[0mmodel\u001b[0m\u001b[0;34m.\u001b[0m\u001b[0mfit\u001b[0m\u001b[0;34m(\u001b[0m\u001b[0mdata_train_image\u001b[0m\u001b[0;34m,\u001b[0m \u001b[0mlabels_train_image\u001b[0m\u001b[0;34m,\u001b[0m \u001b[0mbatch_size\u001b[0m\u001b[0;34m=\u001b[0m\u001b[0;36m10\u001b[0m\u001b[0;34m,\u001b[0m\u001b[0mvalidation_split\u001b[0m \u001b[0;34m=\u001b[0m \u001b[0;36m0.2\u001b[0m\u001b[0;34m,\u001b[0m \u001b[0mnb_epoch\u001b[0m\u001b[0;34m=\u001b[0m\u001b[0;36m100\u001b[0m\u001b[0;34m,\u001b[0m\u001b[0mcallbacks\u001b[0m\u001b[0;34m=\u001b[0m\u001b[0;34m[\u001b[0m\u001b[0mearly_stopping\u001b[0m\u001b[0;34m]\u001b[0m\u001b[0;34m)\u001b[0m\u001b[0;34m\u001b[0m\u001b[0m\n\u001b[0m\u001b[1;32m     28\u001b[0m \u001b[0;34m\u001b[0m\u001b[0m\n\u001b[1;32m     29\u001b[0m \u001b[0;31m# model.save('Gersang.h5')\u001b[0m\u001b[0;34m\u001b[0m\u001b[0;34m\u001b[0m\u001b[0m\n",
      "\u001b[0;32m/home/ml/anaconda3/lib/python3.6/site-packages/keras/engine/training.py\u001b[0m in \u001b[0;36mfit\u001b[0;34m(self, x, y, batch_size, epochs, verbose, callbacks, validation_split, validation_data, shuffle, class_weight, sample_weight, initial_epoch, steps_per_epoch, validation_steps, **kwargs)\u001b[0m\n\u001b[1;32m   1037\u001b[0m                                         \u001b[0minitial_epoch\u001b[0m\u001b[0;34m=\u001b[0m\u001b[0minitial_epoch\u001b[0m\u001b[0;34m,\u001b[0m\u001b[0;34m\u001b[0m\u001b[0m\n\u001b[1;32m   1038\u001b[0m                                         \u001b[0msteps_per_epoch\u001b[0m\u001b[0;34m=\u001b[0m\u001b[0msteps_per_epoch\u001b[0m\u001b[0;34m,\u001b[0m\u001b[0;34m\u001b[0m\u001b[0m\n\u001b[0;32m-> 1039\u001b[0;31m                                         validation_steps=validation_steps)\n\u001b[0m\u001b[1;32m   1040\u001b[0m \u001b[0;34m\u001b[0m\u001b[0m\n\u001b[1;32m   1041\u001b[0m     def evaluate(self, x=None, y=None,\n",
      "\u001b[0;32m/home/ml/anaconda3/lib/python3.6/site-packages/keras/engine/training_arrays.py\u001b[0m in \u001b[0;36mfit_loop\u001b[0;34m(model, f, ins, out_labels, batch_size, epochs, verbose, callbacks, val_f, val_ins, shuffle, callback_metrics, initial_epoch, steps_per_epoch, validation_steps)\u001b[0m\n\u001b[1;32m    197\u001b[0m                     \u001b[0mins_batch\u001b[0m\u001b[0;34m[\u001b[0m\u001b[0mi\u001b[0m\u001b[0;34m]\u001b[0m \u001b[0;34m=\u001b[0m \u001b[0mins_batch\u001b[0m\u001b[0;34m[\u001b[0m\u001b[0mi\u001b[0m\u001b[0;34m]\u001b[0m\u001b[0;34m.\u001b[0m\u001b[0mtoarray\u001b[0m\u001b[0;34m(\u001b[0m\u001b[0;34m)\u001b[0m\u001b[0;34m\u001b[0m\u001b[0m\n\u001b[1;32m    198\u001b[0m \u001b[0;34m\u001b[0m\u001b[0m\n\u001b[0;32m--> 199\u001b[0;31m                 \u001b[0mouts\u001b[0m \u001b[0;34m=\u001b[0m \u001b[0mf\u001b[0m\u001b[0;34m(\u001b[0m\u001b[0mins_batch\u001b[0m\u001b[0;34m)\u001b[0m\u001b[0;34m\u001b[0m\u001b[0m\n\u001b[0m\u001b[1;32m    200\u001b[0m                 \u001b[0mouts\u001b[0m \u001b[0;34m=\u001b[0m \u001b[0mto_list\u001b[0m\u001b[0;34m(\u001b[0m\u001b[0mouts\u001b[0m\u001b[0;34m)\u001b[0m\u001b[0;34m\u001b[0m\u001b[0m\n\u001b[1;32m    201\u001b[0m                 \u001b[0;32mfor\u001b[0m \u001b[0ml\u001b[0m\u001b[0;34m,\u001b[0m \u001b[0mo\u001b[0m \u001b[0;32min\u001b[0m \u001b[0mzip\u001b[0m\u001b[0;34m(\u001b[0m\u001b[0mout_labels\u001b[0m\u001b[0;34m,\u001b[0m \u001b[0mouts\u001b[0m\u001b[0;34m)\u001b[0m\u001b[0;34m:\u001b[0m\u001b[0;34m\u001b[0m\u001b[0m\n",
      "\u001b[0;32m/home/ml/anaconda3/lib/python3.6/site-packages/keras/backend/tensorflow_backend.py\u001b[0m in \u001b[0;36m__call__\u001b[0;34m(self, inputs)\u001b[0m\n\u001b[1;32m   2713\u001b[0m                 \u001b[0;32mreturn\u001b[0m \u001b[0mself\u001b[0m\u001b[0;34m.\u001b[0m\u001b[0m_legacy_call\u001b[0m\u001b[0;34m(\u001b[0m\u001b[0minputs\u001b[0m\u001b[0;34m)\u001b[0m\u001b[0;34m\u001b[0m\u001b[0m\n\u001b[1;32m   2714\u001b[0m \u001b[0;34m\u001b[0m\u001b[0m\n\u001b[0;32m-> 2715\u001b[0;31m             \u001b[0;32mreturn\u001b[0m \u001b[0mself\u001b[0m\u001b[0;34m.\u001b[0m\u001b[0m_call\u001b[0m\u001b[0;34m(\u001b[0m\u001b[0minputs\u001b[0m\u001b[0;34m)\u001b[0m\u001b[0;34m\u001b[0m\u001b[0m\n\u001b[0m\u001b[1;32m   2716\u001b[0m         \u001b[0;32melse\u001b[0m\u001b[0;34m:\u001b[0m\u001b[0;34m\u001b[0m\u001b[0m\n\u001b[1;32m   2717\u001b[0m             \u001b[0;32mif\u001b[0m \u001b[0mpy_any\u001b[0m\u001b[0;34m(\u001b[0m\u001b[0mis_tensor\u001b[0m\u001b[0;34m(\u001b[0m\u001b[0mx\u001b[0m\u001b[0;34m)\u001b[0m \u001b[0;32mfor\u001b[0m \u001b[0mx\u001b[0m \u001b[0;32min\u001b[0m \u001b[0minputs\u001b[0m\u001b[0;34m)\u001b[0m\u001b[0;34m:\u001b[0m\u001b[0;34m\u001b[0m\u001b[0m\n",
      "\u001b[0;32m/home/ml/anaconda3/lib/python3.6/site-packages/keras/backend/tensorflow_backend.py\u001b[0m in \u001b[0;36m_call\u001b[0;34m(self, inputs)\u001b[0m\n\u001b[1;32m   2673\u001b[0m             \u001b[0mfetched\u001b[0m \u001b[0;34m=\u001b[0m \u001b[0mself\u001b[0m\u001b[0;34m.\u001b[0m\u001b[0m_callable_fn\u001b[0m\u001b[0;34m(\u001b[0m\u001b[0;34m*\u001b[0m\u001b[0marray_vals\u001b[0m\u001b[0;34m,\u001b[0m \u001b[0mrun_metadata\u001b[0m\u001b[0;34m=\u001b[0m\u001b[0mself\u001b[0m\u001b[0;34m.\u001b[0m\u001b[0mrun_metadata\u001b[0m\u001b[0;34m)\u001b[0m\u001b[0;34m\u001b[0m\u001b[0m\n\u001b[1;32m   2674\u001b[0m         \u001b[0;32melse\u001b[0m\u001b[0;34m:\u001b[0m\u001b[0;34m\u001b[0m\u001b[0m\n\u001b[0;32m-> 2675\u001b[0;31m             \u001b[0mfetched\u001b[0m \u001b[0;34m=\u001b[0m \u001b[0mself\u001b[0m\u001b[0;34m.\u001b[0m\u001b[0m_callable_fn\u001b[0m\u001b[0;34m(\u001b[0m\u001b[0;34m*\u001b[0m\u001b[0marray_vals\u001b[0m\u001b[0;34m)\u001b[0m\u001b[0;34m\u001b[0m\u001b[0m\n\u001b[0m\u001b[1;32m   2676\u001b[0m         \u001b[0;32mreturn\u001b[0m \u001b[0mfetched\u001b[0m\u001b[0;34m[\u001b[0m\u001b[0;34m:\u001b[0m\u001b[0mlen\u001b[0m\u001b[0;34m(\u001b[0m\u001b[0mself\u001b[0m\u001b[0;34m.\u001b[0m\u001b[0moutputs\u001b[0m\u001b[0;34m)\u001b[0m\u001b[0;34m]\u001b[0m\u001b[0;34m\u001b[0m\u001b[0m\n\u001b[1;32m   2677\u001b[0m \u001b[0;34m\u001b[0m\u001b[0m\n",
      "\u001b[0;32m/home/ml/anaconda3/lib/python3.6/site-packages/tensorflow/python/client/session.py\u001b[0m in \u001b[0;36m__call__\u001b[0;34m(self, *args, **kwargs)\u001b[0m\n\u001b[1;32m   1437\u001b[0m           ret = tf_session.TF_SessionRunCallable(\n\u001b[1;32m   1438\u001b[0m               \u001b[0mself\u001b[0m\u001b[0;34m.\u001b[0m\u001b[0m_session\u001b[0m\u001b[0;34m.\u001b[0m\u001b[0m_session\u001b[0m\u001b[0;34m,\u001b[0m \u001b[0mself\u001b[0m\u001b[0;34m.\u001b[0m\u001b[0m_handle\u001b[0m\u001b[0;34m,\u001b[0m \u001b[0margs\u001b[0m\u001b[0;34m,\u001b[0m \u001b[0mstatus\u001b[0m\u001b[0;34m,\u001b[0m\u001b[0;34m\u001b[0m\u001b[0m\n\u001b[0;32m-> 1439\u001b[0;31m               run_metadata_ptr)\n\u001b[0m\u001b[1;32m   1440\u001b[0m         \u001b[0;32mif\u001b[0m \u001b[0mrun_metadata\u001b[0m\u001b[0;34m:\u001b[0m\u001b[0;34m\u001b[0m\u001b[0m\n\u001b[1;32m   1441\u001b[0m           \u001b[0mproto_data\u001b[0m \u001b[0;34m=\u001b[0m \u001b[0mtf_session\u001b[0m\u001b[0;34m.\u001b[0m\u001b[0mTF_GetBuffer\u001b[0m\u001b[0;34m(\u001b[0m\u001b[0mrun_metadata_ptr\u001b[0m\u001b[0;34m)\u001b[0m\u001b[0;34m\u001b[0m\u001b[0m\n",
      "\u001b[0;32m/home/ml/anaconda3/lib/python3.6/site-packages/tensorflow/python/framework/errors_impl.py\u001b[0m in \u001b[0;36m__exit__\u001b[0;34m(self, type_arg, value_arg, traceback_arg)\u001b[0m\n\u001b[1;32m    526\u001b[0m             \u001b[0;32mNone\u001b[0m\u001b[0;34m,\u001b[0m \u001b[0;32mNone\u001b[0m\u001b[0;34m,\u001b[0m\u001b[0;34m\u001b[0m\u001b[0m\n\u001b[1;32m    527\u001b[0m             \u001b[0mcompat\u001b[0m\u001b[0;34m.\u001b[0m\u001b[0mas_text\u001b[0m\u001b[0;34m(\u001b[0m\u001b[0mc_api\u001b[0m\u001b[0;34m.\u001b[0m\u001b[0mTF_Message\u001b[0m\u001b[0;34m(\u001b[0m\u001b[0mself\u001b[0m\u001b[0;34m.\u001b[0m\u001b[0mstatus\u001b[0m\u001b[0;34m.\u001b[0m\u001b[0mstatus\u001b[0m\u001b[0;34m)\u001b[0m\u001b[0;34m)\u001b[0m\u001b[0;34m,\u001b[0m\u001b[0;34m\u001b[0m\u001b[0m\n\u001b[0;32m--> 528\u001b[0;31m             c_api.TF_GetCode(self.status.status))\n\u001b[0m\u001b[1;32m    529\u001b[0m     \u001b[0;31m# Delete the underlying status object from memory otherwise it stays alive\u001b[0m\u001b[0;34m\u001b[0m\u001b[0;34m\u001b[0m\u001b[0m\n\u001b[1;32m    530\u001b[0m     \u001b[0;31m# as there is a reference to status from this from the traceback due to\u001b[0m\u001b[0;34m\u001b[0m\u001b[0;34m\u001b[0m\u001b[0m\n",
      "\u001b[0;31mUnknownError\u001b[0m: Failed to get convolution algorithm. This is probably because cuDNN failed to initialize, so try looking to see if a warning log message was printed above.\n\t [[{{node conv2d_1/convolution}} = Conv2D[T=DT_FLOAT, _class=[\"loc:@training/Adam/gradients/conv2d_1/convolution_grad/Conv2DBackpropFilter\"], data_format=\"NCHW\", dilations=[1, 1, 1, 1], padding=\"SAME\", strides=[1, 1, 1, 1], use_cudnn_on_gpu=true, _device=\"/job:localhost/replica:0/task:0/device:GPU:0\"](training/Adam/gradients/conv2d_1/convolution_grad/Conv2DBackpropFilter-0-TransposeNHWCToNCHW-LayoutOptimizer, conv2d_1/kernel/read)]]\n\t [[{{node loss/mul/_129}} = _Recv[client_terminated=false, recv_device=\"/job:localhost/replica:0/task:0/device:CPU:0\", send_device=\"/job:localhost/replica:0/task:0/device:GPU:0\", send_device_incarnation=1, tensor_name=\"edge_1020_loss/mul\", tensor_type=DT_FLOAT, _device=\"/job:localhost/replica:0/task:0/device:CPU:0\"]()]]"
     ]
    }
   ],
   "source": [
    "#cnn모델 학습\n",
    "from keras.callbacks import EarlyStopping\n",
    "early_stopping = EarlyStopping()\n",
    "keras.callbacks.EarlyStopping(monitor='val_loss', min_delta=0, patience=0, verbose=0, mode='auto')\n",
    "\n",
    "\n",
    "model = Sequential()\n",
    "model.add(Convolution2D(16, 3, 3, border_mode='same', activation='relu', #3x3필터 16개를 적용, same:입력이미지와 출력 이미지크기같음\n",
    "                        input_shape=data_train_image.shape[1:]))\n",
    "\n",
    "model.add(MaxPooling2D(pool_size=(2, 2))) #2,2 중 가장 높은값을 가져옴 - 사소한 특징 무시\n",
    "model.add(Dropout(0.25))\n",
    "  \n",
    "model.add(Convolution2D(64, 3, 3,  activation='relu'))\n",
    "model.add(MaxPooling2D(pool_size=(2, 2)))\n",
    "model.add(Dropout(0.25))\n",
    " \n",
    "model.add(Convolution2D(64, 3, 3))\n",
    "model.add(MaxPooling2D(pool_size=(2, 2)))\n",
    "model.add(Dropout(0.25))\n",
    "  \n",
    "model.add(Flatten())\n",
    "model.add(Dense(256, activation = 'relu'))\n",
    "model.add(Dropout(0.5))\n",
    "model.add(Dense(8,activation = 'softmax'))\n",
    "  \n",
    "model.compile(loss='categorical_crossentropy',optimizer='Adam',metrics=['accuracy'])\n",
    "model.fit(data_train_image, labels_train_image, batch_size=200,validation_split = 0.2, nb_epoch=100,callbacks=[early_stopping])\n",
    "\n",
    "# model.save('Gersang.h5')"
   ]
  },
  {
   "cell_type": "code",
   "execution_count": 30,
   "metadata": {
    "scrolled": true
   },
   "outputs": [
    {
     "name": "stderr",
     "output_type": "stream",
     "text": [
      "C:\\ProgramData\\Anaconda3\\lib\\site-packages\\ipykernel_launcher.py:8: UserWarning: Update your `Conv2D` call to the Keras 2 API: `Conv2D(16, (3, 3), activation=\"relu\", input_shape=(28, 28, 3..., padding=\"same\")`\n",
      "  \n",
      "C:\\ProgramData\\Anaconda3\\lib\\site-packages\\ipykernel_launcher.py:12: UserWarning: Update your `Conv2D` call to the Keras 2 API: `Conv2D(64, (3, 3), activation=\"relu\")`\n",
      "  if sys.path[0] == '':\n",
      "C:\\ProgramData\\Anaconda3\\lib\\site-packages\\ipykernel_launcher.py:16: UserWarning: Update your `Conv2D` call to the Keras 2 API: `Conv2D(64, (3, 3))`\n",
      "  app.launch_new_instance()\n"
     ]
    },
    {
     "name": "stdout",
     "output_type": "stream",
     "text": [
      "Epoch 1/100\n",
      " - 9s - loss: 2.0648 - acc: 0.1520 - val_loss: 2.0379 - val_acc: 0.1635\n",
      "Epoch 2/100\n",
      " - 8s - loss: 2.0466 - acc: 0.1529 - val_loss: 2.0406 - val_acc: 0.1371\n"
     ]
    }
   ],
   "source": [
    "#이미지 샘플링 할 경우\n",
    "# from keras.callbacks import EarlyStopping\n",
    "# early_stopping = EarlyStopping()\n",
    "# keras.callbacks.EarlyStopping(monitor='val_loss', min_delta=0, patience=0, verbose=0, mode='auto')\n",
    "\n",
    "# from keras.preprocessing.image import ImageDataGenerator\n",
    "# model = Sequential()\n",
    "# model.add(Convolution2D(16, 3, 3, border_mode='same', activation='relu', #3x3필터 16개를 적용, same:입력이미지와 출력 이미지크기같음\n",
    "#                         input_shape=data_train_image.shape[1:]))\n",
    "# model.add(MaxPooling2D(pool_size=(2, 2))) #2,2 중 가장 높은값을 가져옴 - 사소한 특징 무시\n",
    "# model.add(Dropout(0.25))\n",
    "  \n",
    "# model.add(Convolution2D(64, 3, 3,  activation='relu'))\n",
    "# model.add(MaxPooling2D(pool_size=(2, 2)))\n",
    "# model.add(Dropout(0.25))\n",
    " \n",
    "# model.add(Convolution2D(64, 3, 3))\n",
    "# model.add(MaxPooling2D(pool_size=(2, 2)))\n",
    "# model.add(Dropout(0.25))\n",
    "  \n",
    "# model.add(Flatten())\n",
    "# model.add(Dense(128, activation = 'relu')) # 256\n",
    "# model.add(Dropout(0.5))\n",
    "# model.add(Dense(8,activation = 'softmax'))\n",
    "  \n",
    "# model.compile(loss='categorical_crossentropy',optimizer='Adam',metrics=['accuracy'])\n",
    "\n",
    "# #이미지 겹치기로 늘려주면 좋음\n",
    "# datagen = ImageDataGenerator(\n",
    "#         rotation_range=40,\n",
    "#         width_shift_range=0.2,\n",
    "#         height_shift_range=0.2,\n",
    "#         shear_range=0.2,\n",
    "#         zoom_range=0.2,\n",
    "#         horizontal_flip=True,\n",
    "#         fill_mode='nearest') #try constant\n",
    "\n",
    "# datagen.fit(data_train_image)\n",
    "\n",
    "# model.fit_generator(datagen.flow(data_train_image,labels_train_image,batch_size =3),validation_data=(data_test_image, labels_test_image),verbose = 2, epochs=100,steps_per_epoch = len(data_test_image) / 32,callbacks=[early_stopping])\n",
    "\n",
    "# model.save('Gersang.h5')"
   ]
  },
  {
   "cell_type": "code",
   "execution_count": 32,
   "metadata": {},
   "outputs": [
    {
     "name": "stdout",
     "output_type": "stream",
     "text": [
      "11617/11617 [==============================] - ETA:  - ETA:  - ETA:  - ETA:  - ETA:  - ETA:  - ETA:  - ETA:  - ETA:  - ETA:  - ETA:  - ETA:  - ETA:  - ETA:  - ETA:  - ETA:  - ETA:  - ETA:  - ETA:  - ETA:  - ETA:  - ETA:  - ETA:  - ETA:  - ETA:  - ETA:  - ETA:  - ETA:  - ETA:  - ETA:  - ETA:  - ETA:  - ETA:  - ETA:  - ETA:  - ETA:  - ETA:  - ETA:  - ETA:  - ETA:  - ETA:  - ETA:  - ETA:  - ETA:  - ETA:  - ETA:  - ETA:  - ETA:  - ETA:  - ETA:  - ETA:  - ETA:  - ETA:  - ETA:  - ETA:  - 3s 251us/step\n"
     ]
    }
   ],
   "source": [
    "accr = model.evaluate(data_test_image,labels_test_image)"
   ]
  },
  {
   "cell_type": "code",
   "execution_count": 33,
   "metadata": {
    "scrolled": true
   },
   "outputs": [
    {
     "name": "stdout",
     "output_type": "stream",
     "text": [
      "Test set\n",
      "  Loss: 2.041\n",
      "  Accuracy: 0.137\n"
     ]
    }
   ],
   "source": [
    "print('Test set\\n  Loss: {:0.3f}\\n  Accuracy: {:0.3f}'.format(accr[0],accr[1]))"
   ]
  },
  {
   "cell_type": "code",
   "execution_count": 29,
   "metadata": {
    "scrolled": true
   },
   "outputs": [
    {
     "name": "stderr",
     "output_type": "stream",
     "text": [
      "C:\\ProgramData\\Anaconda3\\lib\\site-packages\\ipykernel_launcher.py:41: UserWarning: The `nb_epoch` argument in `fit` has been renamed `epochs`.\n"
     ]
    },
    {
     "name": "stdout",
     "output_type": "stream",
     "text": [
      "Train on 27879 samples, validate on 6970 samples\n",
      "Epoch 1/100\n",
      "22900/27879 [=======================>......] - ETA: 12:31 - loss: nan - acc: 0.140 - ETA: 6:26 - loss: nan - acc: 0.155 - ETA: 4:22 - loss: nan - acc: 0.14 - ETA: 3:20 - loss: nan - acc: 0.15 - ETA: 2:42 - loss: nan - acc: 0.14 - ETA: 2:17 - loss: nan - acc: 0.13 - ETA: 2:00 - loss: nan - acc: 0.13 - ETA: 1:46 - loss: nan - acc: 0.13 - ETA: 1:36 - loss: nan - acc: 0.13 - ETA: 1:27 - loss: nan - acc: 0.12 - ETA: 1:20 - loss: nan - acc: 0.12 - ETA: 1:15 - loss: nan - acc: 0.11 - ETA: 1:10 - loss: nan - acc: 0.12 - ETA: 1:06 - loss: nan - acc: 0.11 - ETA: 1:03 - loss: nan - acc: 0.11 - ETA: 1:00 - loss: nan - acc: 0.11 - ETA: 57s - loss: nan - acc: 0.1194 - ETA: 54s - loss: nan - acc: 0.122 - ETA: 52s - loss: nan - acc: 0.122 - ETA: 50s - loss: nan - acc: 0.124 - ETA: 48s - loss: nan - acc: 0.124 - ETA: 46s - loss: nan - acc: 0.124 - ETA: 45s - loss: nan - acc: 0.126 - ETA: 44s - loss: nan - acc: 0.127 - ETA: 43s - loss: nan - acc: 0.126 - ETA: 41s - loss: nan - acc: 0.128 - ETA: 40s - loss: nan - acc: 0.128 - ETA: 39s - loss: nan - acc: 0.126 - ETA: 38s - loss: nan - acc: 0.126 - ETA: 37s - loss: nan - acc: 0.125 - ETA: 36s - loss: nan - acc: 0.126 - ETA: 35s - loss: nan - acc: 0.127 - ETA: 35s - loss: nan - acc: 0.128 - ETA: 34s - loss: nan - acc: 0.126 - ETA: 33s - loss: nan - acc: 0.127 - ETA: 32s - loss: nan - acc: 0.126 - ETA: 32s - loss: nan - acc: 0.126 - ETA: 31s - loss: nan - acc: 0.124 - ETA: 31s - loss: nan - acc: 0.123 - ETA: 30s - loss: nan - acc: 0.123 - ETA: 30s - loss: nan - acc: 0.124 - ETA: 29s - loss: nan - acc: 0.124 - ETA: 29s - loss: nan - acc: 0.123 - ETA: 29s - loss: nan - acc: 0.122 - ETA: 28s - loss: nan - acc: 0.122 - ETA: 28s - loss: nan - acc: 0.122 - ETA: 27s - loss: nan - acc: 0.122 - ETA: 27s - loss: nan - acc: 0.124 - ETA: 27s - loss: nan - acc: 0.123 - ETA: 26s - loss: nan - acc: 0.123 - ETA: 26s - loss: nan - acc: 0.123 - ETA: 26s - loss: nan - acc: 0.122 - ETA: 25s - loss: nan - acc: 0.122 - ETA: 25s - loss: nan - acc: 0.123 - ETA: 25s - loss: nan - acc: 0.124 - ETA: 24s - loss: nan - acc: 0.124 - ETA: 24s - loss: nan - acc: 0.124 - ETA: 24s - loss: nan - acc: 0.124 - ETA: 23s - loss: nan - acc: 0.124 - ETA: 23s - loss: nan - acc: 0.123 - ETA: 23s - loss: nan - acc: 0.122 - ETA: 23s - loss: nan - acc: 0.122 - ETA: 22s - loss: nan - acc: 0.123 - ETA: 22s - loss: nan - acc: 0.123 - ETA: 22s - loss: nan - acc: 0.123 - ETA: 22s - loss: nan - acc: 0.124 - ETA: 21s - loss: nan - acc: 0.124 - ETA: 21s - loss: nan - acc: 0.125 - ETA: 21s - loss: nan - acc: 0.125 - ETA: 21s - loss: nan - acc: 0.125 - ETA: 20s - loss: nan - acc: 0.125 - ETA: 20s - loss: nan - acc: 0.125 - ETA: 20s - loss: nan - acc: 0.125 - ETA: 20s - loss: nan - acc: 0.125 - ETA: 20s - loss: nan - acc: 0.126 - ETA: 19s - loss: nan - acc: 0.125 - ETA: 19s - loss: nan - acc: 0.125 - ETA: 19s - loss: nan - acc: 0.125 - ETA: 19s - loss: nan - acc: 0.125 - ETA: 19s - loss: nan - acc: 0.124 - ETA: 18s - loss: nan - acc: 0.124 - ETA: 18s - loss: nan - acc: 0.124 - ETA: 18s - loss: nan - acc: 0.123 - ETA: 18s - loss: nan - acc: 0.124 - ETA: 18s - loss: nan - acc: 0.124 - ETA: 18s - loss: nan - acc: 0.124 - ETA: 17s - loss: nan - acc: 0.123 - ETA: 17s - loss: nan - acc: 0.124 - ETA: 17s - loss: nan - acc: 0.124 - ETA: 17s - loss: nan - acc: 0.124 - ETA: 17s - loss: nan - acc: 0.124 - ETA: 17s - loss: nan - acc: 0.123 - ETA: 16s - loss: nan - acc: 0.123 - ETA: 16s - loss: nan - acc: 0.124 - ETA: 16s - loss: nan - acc: 0.124 - ETA: 16s - loss: nan - acc: 0.124 - ETA: 16s - loss: nan - acc: 0.124 - ETA: 16s - loss: nan - acc: 0.124 - ETA: 16s - loss: nan - acc: 0.124 - ETA: 15s - loss: nan - acc: 0.124 - ETA: 15s - loss: nan - acc: 0.124 - ETA: 15s - loss: nan - acc: 0.125 - ETA: 15s - loss: nan - acc: 0.125 - ETA: 15s - loss: nan - acc: 0.125 - ETA: 15s - loss: nan - acc: 0.125 - ETA: 15s - loss: nan - acc: 0.125 - ETA: 14s - loss: nan - acc: 0.125 - ETA: 14s - loss: nan - acc: 0.125 - ETA: 14s - loss: nan - acc: 0.126 - ETA: 14s - loss: nan - acc: 0.125 - ETA: 14s - loss: nan - acc: 0.125 - ETA: 14s - loss: nan - acc: 0.125 - ETA: 14s - loss: nan - acc: 0.125 - ETA: 14s - loss: nan - acc: 0.125 - ETA: 13s - loss: nan - acc: 0.125 - ETA: 13s - loss: nan - acc: 0.125 - ETA: 13s - loss: nan - acc: 0.125 - ETA: 13s - loss: nan - acc: 0.125 - ETA: 13s - loss: nan - acc: 0.125 - ETA: 13s - loss: nan - acc: 0.125 - ETA: 13s - loss: nan - acc: 0.126 - ETA: 13s - loss: nan - acc: 0.126 - ETA: 12s - loss: nan - acc: 0.126 - ETA: 12s - loss: nan - acc: 0.126 - ETA: 12s - loss: nan - acc: 0.126 - ETA: 12s - loss: nan - acc: 0.126 - ETA: 12s - loss: nan - acc: 0.126 - ETA: 12s - loss: nan - acc: 0.126 - ETA: 12s - loss: nan - acc: 0.127 - ETA: 12s - loss: nan - acc: 0.127 - ETA: 12s - loss: nan - acc: 0.127 - ETA: 12s - loss: nan - acc: 0.127 - ETA: 12s - loss: nan - acc: 0.127 - ETA: 11s - loss: nan - acc: 0.127 - ETA: 11s - loss: nan - acc: 0.126 - ETA: 11s - loss: nan - acc: 0.127 - ETA: 11s - loss: nan - acc: 0.126 - ETA: 11s - loss: nan - acc: 0.126 - ETA: 11s - loss: nan - acc: 0.126 - ETA: 11s - loss: nan - acc: 0.126 - ETA: 11s - loss: nan - acc: 0.126 - ETA: 11s - loss: nan - acc: 0.126 - ETA: 10s - loss: nan - acc: 0.126 - ETA: 10s - loss: nan - acc: 0.126 - ETA: 10s - loss: nan - acc: 0.126 - ETA: 10s - loss: nan - acc: 0.126 - ETA: 10s - loss: nan - acc: 0.126 - ETA: 10s - loss: nan - acc: 0.126 - ETA: 10s - loss: nan - acc: 0.126 - ETA: 10s - loss: nan - acc: 0.126 - ETA: 10s - loss: nan - acc: 0.126 - ETA: 10s - loss: nan - acc: 0.126 - ETA: 10s - loss: nan - acc: 0.126 - ETA: 9s - loss: nan - acc: 0.126 - ETA: 9s - loss: nan - acc: 0.12 - ETA: 9s - loss: nan - acc: 0.12 - ETA: 9s - loss: nan - acc: 0.12 - ETA: 9s - loss: nan - acc: 0.12 - ETA: 9s - loss: nan - acc: 0.12 - ETA: 9s - loss: nan - acc: 0.12 - ETA: 9s - loss: nan - acc: 0.12 - ETA: 9s - loss: nan - acc: 0.12 - ETA: 9s - loss: nan - acc: 0.12 - ETA: 9s - loss: nan - acc: 0.12 - ETA: 8s - loss: nan - acc: 0.12 - ETA: 8s - loss: nan - acc: 0.12 - ETA: 8s - loss: nan - acc: 0.12 - ETA: 8s - loss: nan - acc: 0.12 - ETA: 8s - loss: nan - acc: 0.12 - ETA: 8s - loss: nan - acc: 0.12 - ETA: 8s - loss: nan - acc: 0.12 - ETA: 8s - loss: nan - acc: 0.12 - ETA: 8s - loss: nan - acc: 0.12 - ETA: 8s - loss: nan - acc: 0.12 - ETA: 8s - loss: nan - acc: 0.12 - ETA: 7s - loss: nan - acc: 0.12 - ETA: 7s - loss: nan - acc: 0.12 - ETA: 7s - loss: nan - acc: 0.12 - ETA: 7s - loss: nan - acc: 0.12 - ETA: 7s - loss: nan - acc: 0.12 - ETA: 7s - loss: nan - acc: 0.12 - ETA: 7s - loss: nan - acc: 0.12 - ETA: 7s - loss: nan - acc: 0.12 - ETA: 7s - loss: nan - acc: 0.12 - ETA: 7s - loss: nan - acc: 0.12 - ETA: 7s - loss: nan - acc: 0.12 - ETA: 7s - loss: nan - acc: 0.12 - ETA: 6s - loss: nan - acc: 0.12 - ETA: 6s - loss: nan - acc: 0.12 - ETA: 6s - loss: nan - acc: 0.12 - ETA: 6s - loss: nan - acc: 0.12 - ETA: 6s - loss: nan - acc: 0.12 - ETA: 6s - loss: nan - acc: 0.12 - ETA: 6s - loss: nan - acc: 0.12 - ETA: 6s - loss: nan - acc: 0.12 - ETA: 6s - loss: nan - acc: 0.12 - ETA: 6s - loss: nan - acc: 0.12 - ETA: 6s - loss: nan - acc: 0.12 - ETA: 6s - loss: nan - acc: 0.12 - ETA: 5s - loss: nan - acc: 0.12 - ETA: 5s - loss: nan - acc: 0.12 - ETA: 5s - loss: nan - acc: 0.12 - ETA: 5s - loss: nan - acc: 0.12 - ETA: 5s - loss: nan - acc: 0.12 - ETA: 5s - loss: nan - acc: 0.12 - ETA: 5s - loss: nan - acc: 0.12 - ETA: 5s - loss: nan - acc: 0.12 - ETA: 5s - loss: nan - acc: 0.12 - ETA: 5s - loss: nan - acc: 0.12 - ETA: 5s - loss: nan - acc: 0.12 - ETA: 5s - loss: nan - acc: 0.12 - ETA: 5s - loss: nan - acc: 0.12 - ETA: 4s - loss: nan - acc: 0.12 - ETA: 4s - loss: nan - acc: 0.12 - ETA: 4s - loss: nan - acc: 0.12 - ETA: 4s - loss: nan - acc: 0.12 - ETA: 4s - loss: nan - acc: 0.12 - ETA: 4s - loss: nan - acc: 0.12 - ETA: 4s - loss: nan - acc: 0.12 - ETA: 4s - loss: nan - acc: 0.12 - ETA: 4s - loss: nan - acc: 0.12 - ETA: 4s - loss: nan - acc: 0.12 - ETA: 4s - loss: nan - acc: 0.12 - ETA: 4s - loss: nan - acc: 0.12 - ETA: 3s - loss: nan - acc: 0.12 - ETA: 3s - loss: nan - acc: 0.12 - ETA: 3s - loss: nan - acc: 0.12 - ETA: 3s - loss: nan - acc: 0.12 - ETA: 3s - loss: nan - acc: 0.1227879/27879 [==============================] - ETA: 3s - loss: nan - acc: 0.12 - ETA: 3s - loss: nan - acc: 0.12 - ETA: 3s - loss: nan - acc: 0.12 - ETA: 3s - loss: nan - acc: 0.12 - ETA: 3s - loss: nan - acc: 0.12 - ETA: 3s - loss: nan - acc: 0.12 - ETA: 3s - loss: nan - acc: 0.12 - ETA: 3s - loss: nan - acc: 0.12 - ETA: 2s - loss: nan - acc: 0.12 - ETA: 2s - loss: nan - acc: 0.12 - ETA: 2s - loss: nan - acc: 0.12 - ETA: 2s - loss: nan - acc: 0.12 - ETA: 2s - loss: nan - acc: 0.12 - ETA: 2s - loss: nan - acc: 0.12 - ETA: 2s - loss: nan - acc: 0.12 - ETA: 2s - loss: nan - acc: 0.12 - ETA: 2s - loss: nan - acc: 0.12 - ETA: 2s - loss: nan - acc: 0.12 - ETA: 2s - loss: nan - acc: 0.12 - ETA: 2s - loss: nan - acc: 0.12 - ETA: 2s - loss: nan - acc: 0.12 - ETA: 2s - loss: nan - acc: 0.12 - ETA: 1s - loss: nan - acc: 0.12 - ETA: 1s - loss: nan - acc: 0.12 - ETA: 1s - loss: nan - acc: 0.12 - ETA: 1s - loss: nan - acc: 0.12 - ETA: 1s - loss: nan - acc: 0.12 - ETA: 1s - loss: nan - acc: 0.12 - ETA: 1s - loss: nan - acc: 0.12 - ETA: 1s - loss: nan - acc: 0.12 - ETA: 1s - loss: nan - acc: 0.12 - ETA: 1s - loss: nan - acc: 0.12 - ETA: 1s - loss: nan - acc: 0.12 - ETA: 1s - loss: nan - acc: 0.12 - ETA: 1s - loss: nan - acc: 0.12 - ETA: 1s - loss: nan - acc: 0.12 - ETA: 0s - loss: nan - acc: 0.12 - ETA: 0s - loss: nan - acc: 0.12 - ETA: 0s - loss: nan - acc: 0.12 - ETA: 0s - loss: nan - acc: 0.12 - ETA: 0s - loss: nan - acc: 0.12 - ETA: 0s - loss: nan - acc: 0.12 - ETA: 0s - loss: nan - acc: 0.12 - ETA: 0s - loss: nan - acc: 0.12 - ETA: 0s - loss: nan - acc: 0.12 - ETA: 0s - loss: nan - acc: 0.12 - ETA: 0s - loss: nan - acc: 0.12 - ETA: 0s - loss: nan - acc: 0.12 - ETA: 0s - loss: nan - acc: 0.12 - 24s 874us/step - loss: nan - acc: 0.1234 - val_loss: nan - val_acc: 0.1330\n"
     ]
    },
    {
     "name": "stderr",
     "output_type": "stream",
     "text": [
      "C:\\ProgramData\\Anaconda3\\lib\\site-packages\\keras\\callbacks.py:543: RuntimeWarning: invalid value encountered in less\n",
      "  if self.monitor_op(current - self.min_delta, self.best):\n"
     ]
    },
    {
     "ename": "NameError",
     "evalue": "name 'MODEL_FILE' is not defined",
     "output_type": "error",
     "traceback": [
      "\u001b[1;31m---------------------------------------------------------------------------\u001b[0m",
      "\u001b[1;31mNameError\u001b[0m                                 Traceback (most recent call last)",
      "\u001b[1;32m<ipython-input-29-8695baad91cf>\u001b[0m in \u001b[0;36m<module>\u001b[1;34m\u001b[0m\n\u001b[0;32m     66\u001b[0m \u001b[1;33m\u001b[0m\u001b[0m\n\u001b[0;32m     67\u001b[0m \u001b[1;33m\u001b[0m\u001b[0m\n\u001b[1;32m---> 68\u001b[1;33m \u001b[0mmodel\u001b[0m\u001b[1;33m.\u001b[0m\u001b[0msave\u001b[0m\u001b[1;33m(\u001b[0m\u001b[0mMODEL_FILE\u001b[0m\u001b[1;33m)\u001b[0m\u001b[1;33m\u001b[0m\u001b[1;33m\u001b[0m\u001b[0m\n\u001b[0m",
      "\u001b[1;31mNameError\u001b[0m: name 'MODEL_FILE' is not defined"
     ]
    }
   ],
   "source": [
    "# inception v3 trans learning\n",
    "import tensorflow as tf\n",
    "import keras.applications\n",
    "from keras.layers import Dense, GlobalAveragePooling2D\n",
    "from keras.applications.inception_v3 import InceptionV3, preprocess_input\n",
    "from keras.preprocessing.image import ImageDataGenerator\n",
    "base_model = InceptionV3(weights='imagenet', include_top=False)\n",
    "\n",
    "CLASSES = 8\n",
    "x = base_model.output\n",
    "x = GlobalAveragePooling2D(name='avg_pool')(x)\n",
    "x = Dropout(0.4)(x)\n",
    "predictions = Dense(CLASSES, activation='softmax')(x)\n",
    "prev_model = Model(inputs=base_model.input, outputs=predictions)\n",
    "for layer in base_model.layers:\n",
    "    layer.trainable = False\n",
    "model = Sequential()\n",
    "model.add(prev_model)\n",
    "\n",
    "model.add(Dense(256, activation = 'relu'))\n",
    "\n",
    "model.add(Dense(8,activation = 'softmax'))\n",
    "model.compile(optimizer='rmsprop',\n",
    "              loss='categorical_crossentropy',\n",
    "              metrics=['accuracy'])\n",
    "from keras.applications.inception_v3 import preprocess_input\n",
    "datagen = ImageDataGenerator(\n",
    "    preprocessing_function=preprocess_input,\n",
    "    rotation_range=40,\n",
    "    width_shift_range=0.2,\n",
    "    height_shift_range=0.2,\n",
    "    shear_range=0.2,\n",
    "    zoom_range=0.2,\n",
    "    horizontal_flip=True,\n",
    "    fill_mode='nearest')\n",
    "datagen.fit(data_train_image)\n",
    "\n",
    "EPOCHS = 5\n",
    "BATCH_SIZE = 32\n",
    "STEPS_PER_EPOCH = 320\n",
    "VALIDATION_STEPS = 64\n",
    "MODEL_FILE = 'filename.model'\n",
    "history = model.fit_generator(\n",
    "    datagen.flow(data_train_image,labels_train_image,batch_size =3),\n",
    "    epochs=EPOCHS,\n",
    "    steps_per_epoch=STEPS_PER_EPOCH,\n",
    "    validation_data=(data_test_image, labels_test_image),\n",
    "    validation_steps=VALIDATION_STEPS)\n",
    "  \n",
    "\n",
    "# model.save(MODEL_FILE)"
   ]
  }
 ],
 "metadata": {
  "kernelspec": {
   "display_name": "Python 3",
   "language": "python",
   "name": "python3"
  },
  "language_info": {
   "codemirror_mode": {
    "name": "ipython",
    "version": 3
   },
   "file_extension": ".py",
   "mimetype": "text/x-python",
   "name": "python",
   "nbconvert_exporter": "python",
   "pygments_lexer": "ipython3",
   "version": "3.6.1"
  }
 },
 "nbformat": 4,
 "nbformat_minor": 2
}
