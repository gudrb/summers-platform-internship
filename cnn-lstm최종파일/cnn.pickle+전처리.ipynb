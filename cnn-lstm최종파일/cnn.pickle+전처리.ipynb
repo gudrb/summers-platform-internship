{
 "cells": [
  {
   "cell_type": "code",
   "execution_count": 1,
   "metadata": {
    "scrolled": true
   },
   "outputs": [
    {
     "name": "stderr",
     "output_type": "stream",
     "text": [
      "Using TensorFlow backend.\n"
     ]
    }
   ],
   "source": [
    "import pymssql\n",
    "import re\n",
    "from collections import OrderedDict\n",
    "from pandas import Series,DataFrame\n",
    "from tqdm import tqdm_notebook\n",
    "\n",
    "import pandas as pd\n",
    "import copy\n",
    "\n",
    "import urllib.request #이미지 다운로드\n",
    "import numpy as np\n",
    "\n",
    "import pickle\n",
    "\n",
    "import tensorflow as tf\n",
    "\n",
    "import keras\n",
    "from keras.preprocessing.text import Tokenizer\n",
    "from keras.preprocessing.sequence import pad_sequences\n",
    "from keras.models import Sequential\n",
    "from keras.layers import Dense, Flatten, LSTM, Conv1D, MaxPooling1D, Dropout, Activation\n",
    "from keras.layers.embeddings import Embedding\n"
   ]
  },
  {
   "cell_type": "code",
   "execution_count": 2,
   "metadata": {
    "collapsed": true
   },
   "outputs": [],
   "source": [
    "# -- [식품] 대 카테고리 내의 [라면,통조림,즉석식품] 중 카테고리 데이터 셋 추출 \n",
    "conn = pymssql.connect(server='서버',database = \"데이터베이스\", user=\"아이디\", password=\"비밀번호\")\n",
    "query1='''\n",
    "select top 300000 pl_category, pl_goodsnm, pl_imgurl from ENR_MASTER.ELOC2001.dbo.PRICELIST WITH (nolock)\n",
    "where pl_category like '151101%'\n",
    "OPTION(MAXDOP 1)\n",
    "'''\n",
    "\n",
    "query2='''\n",
    "select top 300000 pl_category, pl_goodsnm, pl_imgurl from ENR_MASTER.ELOC2001.dbo.PRICELIST WITH (nolock)\n",
    "where pl_category like '151103%'\n",
    "OPTION(MAXDOP 1)\n",
    "'''\n",
    "query3='''\n",
    "select top 300000 pl_category, pl_goodsnm, pl_imgurl from ENR_MASTER.ELOC2001.dbo.PRICELIST WITH (nolock)\n",
    "where pl_category like '151104%'\n",
    "OPTION(MAXDOP 1)\n",
    "'''\n",
    "\n",
    "query4='''\n",
    "select top 300000 pl_category, pl_goodsnm, pl_imgurl from ENR_MASTER.ELOC2001.dbo.PRICELIST WITH (nolock)\n",
    "where pl_category like '151105%'\n",
    "OPTION(MAXDOP 1)\n",
    "'''\n",
    "\n",
    "query5='''\n",
    "select top 300000 pl_category, pl_goodsnm, pl_imgurl from ENR_MASTER.ELOC2001.dbo.PRICELIST WITH (nolock)\n",
    "where pl_category like '151106%'\n",
    "OPTION(MAXDOP 1)\n",
    "'''\n",
    "\n",
    "query6='''\n",
    "select top 300000 pl_category, pl_goodsnm, pl_imgurl from ENR_MASTER.ELOC2001.dbo.PRICELIST WITH (nolock)\n",
    "where pl_category like '151107%'\n",
    "OPTION(MAXDOP 1)\n",
    "'''\n",
    "\n",
    "query7='''\n",
    "select top 300000 pl_category, pl_goodsnm, pl_imgurl from ENR_MASTER.ELOC2001.dbo.PRICELIST WITH (nolock)\n",
    "where pl_category like '151108%'\n",
    "OPTION(MAXDOP 1)\n",
    "'''\n",
    "query8='''\n",
    "select top 300000 pl_category, pl_goodsnm, pl_imgurl from ENR_MASTER.ELOC2001.dbo.PRICELIST WITH (nolock)\n",
    "where pl_category like '151110%'\n",
    "OPTION(MAXDOP 1)\n",
    "'''\n",
    "\n",
    "query9='''\n",
    "select top 300000 pl_category, pl_goodsnm, pl_imgurl from ENR_MASTER.ELOC2001.dbo.PRICELIST WITH (nolock)\n",
    "where pl_category like '151112%'\n",
    "OPTION(MAXDOP 1)\n",
    "'''\n",
    "\n",
    "df1 = pd.read_sql(query1,conn)\n",
    "df2 = pd.read_sql(query2,conn)\n",
    "df3 = pd.read_sql(query3,conn)\n",
    "df4 = pd.read_sql(query4,conn)\n",
    "df5 = pd.read_sql(query5,conn)\n",
    "df6 = pd.read_sql(query6,conn)\n",
    "df7 = pd.read_sql(query7,conn)\n",
    "df8 = pd.read_sql(query8,conn)\n",
    "df9 = pd.read_sql(query9,conn)\n",
    "\n",
    "frames = [df1,df2,df3,df4,df5,df6,df7,df8,df9]\n",
    "\n",
    "result3 = pd.concat(frames)"
   ]
  },
  {
   "cell_type": "code",
   "execution_count": 3,
   "metadata": {
    "collapsed": true,
    "scrolled": true
   },
   "outputs": [],
   "source": [
    "#소카테만 남기기\n",
    "result3.pl_category = result3.pl_category.str[4:6]\n",
    "# 중복 인덱스 펼쳐주기\n",
    "result3 = pd.concat([result3],ignore_index=True) "
   ]
  },
  {
   "cell_type": "code",
   "execution_count": 4,
   "metadata": {},
   "outputs": [
    {
     "ename": "ModuleNotFoundError",
     "evalue": "No module named 'konlpy'",
     "output_type": "error",
     "traceback": [
      "\u001b[0;31m---------------------------------------------------------------------------\u001b[0m",
      "\u001b[0;31mModuleNotFoundError\u001b[0m                       Traceback (most recent call last)",
      "\u001b[0;32m<ipython-input-4-a32fcd4d35cd>\u001b[0m in \u001b[0;36m<module>\u001b[0;34m()\u001b[0m\n\u001b[1;32m      1\u001b[0m \u001b[0;31m#문장에서 단어 추출기\u001b[0m\u001b[0;34m\u001b[0m\u001b[0;34m\u001b[0m\u001b[0m\n\u001b[0;32m----> 2\u001b[0;31m \u001b[0;32mfrom\u001b[0m \u001b[0mkonlpy\u001b[0m\u001b[0;34m.\u001b[0m\u001b[0mtag\u001b[0m \u001b[0;32mimport\u001b[0m \u001b[0mOkt\u001b[0m\u001b[0;34m\u001b[0m\u001b[0m\n\u001b[0m\u001b[1;32m      3\u001b[0m \u001b[0mokt\u001b[0m \u001b[0;34m=\u001b[0m \u001b[0mOkt\u001b[0m\u001b[0;34m(\u001b[0m\u001b[0;34m)\u001b[0m\u001b[0;34m\u001b[0m\u001b[0m\n\u001b[1;32m      4\u001b[0m \u001b[0mresult3\u001b[0m\u001b[0;34m.\u001b[0m\u001b[0mpl_goodsnm\u001b[0m \u001b[0;34m=\u001b[0m \u001b[0mresult3\u001b[0m\u001b[0;34m.\u001b[0m\u001b[0mpl_goodsnm\u001b[0m\u001b[0;34m.\u001b[0m\u001b[0mapply\u001b[0m\u001b[0;34m(\u001b[0m\u001b[0;32mlambda\u001b[0m \u001b[0mx\u001b[0m\u001b[0;34m:\u001b[0m \u001b[0mokt\u001b[0m\u001b[0;34m.\u001b[0m\u001b[0mnouns\u001b[0m\u001b[0;34m(\u001b[0m\u001b[0mx\u001b[0m\u001b[0;34m)\u001b[0m\u001b[0;34m)\u001b[0m\u001b[0;34m\u001b[0m\u001b[0m\n",
      "\u001b[0;31mModuleNotFoundError\u001b[0m: No module named 'konlpy'"
     ]
    }
   ],
   "source": [
    "#문장에서 단어 추출기, konlpy 설치 필요\n",
    "from konlpy.tag import Okt\n",
    "okt = Okt()\n",
    "result3.pl_goodsnm = result3.pl_goodsnm.apply(lambda x: okt.nouns(x)) "
   ]
  },
  {
   "cell_type": "code",
   "execution_count": null,
   "metadata": {
    "collapsed": true
   },
   "outputs": [],
   "source": [
    "# LABEL컬럼 만들기(원핫 백터로 바꾸기 위한 컬럼)\n",
    "result3['LABEL'] = 0\n",
    "result3.loc[result3['pl_category']=='01','LABEL'] = 0\n",
    "result3.loc[result3['pl_category']=='03','LABEL'] = 1\n",
    "result3.loc[result3['pl_category']=='04','LABEL'] = 2\n",
    "result3.loc[result3['pl_category']=='05','LABEL'] = 3\n",
    "result3.loc[result3['pl_category']=='06','LABEL'] = 4\n",
    "result3.loc[result3['pl_category']=='07','LABEL'] = 5\n",
    "result3.loc[result3['pl_category']=='08','LABEL'] = 6\n",
    "result3.loc[result3['pl_category']=='12','LABEL'] = 7"
   ]
  },
  {
   "cell_type": "code",
   "execution_count": null,
   "metadata": {
    "collapsed": true,
    "scrolled": false
   },
   "outputs": [],
   "source": [
    "#정보비율 확인\n",
    "result3.LABEL.value_counts()"
   ]
  },
  {
   "cell_type": "code",
   "execution_count": null,
   "metadata": {
    "collapsed": true
   },
   "outputs": [],
   "source": [
    "#정보비율 조정해주기\n",
    "frames3 = [result3[result3.LABEL == 0][0:4000],result3[result3.LABEL == 1][0:4000],result3[result3.LABEL == 2][0:4000],result3[result3.LABEL == 3][0:4000],result3[result3.LABEL == 4][0:4000],result3[result3.LABEL == 5][0:4000],result3[result3.LABEL == 6][0:4000],result3[result3.LABEL == 7][0:4000]]\n",
    "result3 = pd.concat(frames3)"
   ]
  },
  {
   "cell_type": "code",
   "execution_count": null,
   "metadata": {
    "collapsed": true,
    "scrolled": false
   },
   "outputs": [],
   "source": [
    "#이미지URL 픽셀화\n",
    "from skimage.io import imread, imshow\n",
    "from skimage.transform import resize\n",
    "from skimage.util import img_as_ubyte\n",
    "from tqdm import tqdm_notebook\n",
    "for index, row in tqdm_notebook(result3.iterrows()):\n",
    "    try:\n",
    "        result3.at[index,'pl_imgurl'] = img_as_ubyte(resize(imread(row['pl_imgurl']),(28,28)))/256\n",
    "    except:\n",
    "        result3.at[index,'pl_imgurl'] = None"
   ]
  },
  {
   "cell_type": "code",
   "execution_count": null,
   "metadata": {
    "collapsed": true,
    "scrolled": true
   },
   "outputs": [],
   "source": [
    "#픽셀화 되지못한 None값 가진 row 제거\n",
    "result3 = result3.dropna()\n",
    "#인덱스 재정렬 해주기\n",
    "result3 = pd.concat([result3],ignore_index=True)\n",
    "result3"
   ]
  },
  {
   "cell_type": "code",
   "execution_count": null,
   "metadata": {
    "collapsed": true,
    "scrolled": true
   },
   "outputs": [],
   "source": [
    "#피클 파일 저장하기\n",
    "#2:단어분리 3:LABEL 붙임 4:4천개씩만 5:백개씩만 image 전처리6:백개씩 image전처리7:4000개씩 120사이즈 8:84사이즈 9:56사이즈 10: 4000 ~8000 11: ~8000 12: 8000~20000 13: 4000~8000 254사이즈14:20000개 28\n",
    "with open('shoda4000.pickle','wb') as f:\n",
    "    pickle.dump(result3, f, pickle.HIGHEST_PROTOCOL)"
   ]
  }
 ],
 "metadata": {
  "kernelspec": {
   "display_name": "Python 3",
   "language": "python",
   "name": "python3"
  },
  "language_info": {
   "codemirror_mode": {
    "name": "ipython",
    "version": 3
   },
   "file_extension": ".py",
   "mimetype": "text/x-python",
   "name": "python",
   "nbconvert_exporter": "python",
   "pygments_lexer": "ipython3",
   "version": "3.7.3"
  }
 },
 "nbformat": 4,
 "nbformat_minor": 2
}
